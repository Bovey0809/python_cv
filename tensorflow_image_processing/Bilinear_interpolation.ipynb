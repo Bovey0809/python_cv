{
 "cells": [
  {
   "cell_type": "code",
   "execution_count": 1,
   "metadata": {},
   "outputs": [],
   "source": [
    "import numpy as np\n",
    "import matplotlib.pyplot as plt"
   ]
  },
  {
   "cell_type": "code",
   "execution_count": 2,
   "metadata": {},
   "outputs": [],
   "source": [
    "%matplotlib inline"
   ]
  },
  {
   "cell_type": "code",
   "execution_count": 3,
   "metadata": {},
   "outputs": [],
   "source": [
    "import tensorflow as tf"
   ]
  },
  {
   "cell_type": "code",
   "execution_count": 4,
   "metadata": {},
   "outputs": [
    {
     "data": {
      "text/plain": [
       "'0.12.1'"
      ]
     },
     "execution_count": 4,
     "metadata": {},
     "output_type": "execute_result"
    }
   ],
   "source": [
    "tf.__version__"
   ]
  },
  {
   "cell_type": "code",
   "execution_count": 5,
   "metadata": {},
   "outputs": [
    {
     "name": "stdout",
     "output_type": "stream",
     "text": [
      "/home/big_muscle/anaconda3/envs/carnd-term1/bin/python\r\n"
     ]
    }
   ],
   "source": [
    "!which python"
   ]
  },
  {
   "cell_type": "code",
   "execution_count": 12,
   "metadata": {},
   "outputs": [],
   "source": [
    "# Linear Interpolation\n",
    "def linear_interpolation(point1, point2, x):\n",
    "    x1, y1 = point1\n",
    "    x2, y2 = point2\n",
    "    # calculate slope \n",
    "    k = (y2-y1) / (x2 - x1)\n",
    "    return k * (x-x1) + y1"
   ]
  },
  {
   "cell_type": "code",
   "execution_count": 13,
   "metadata": {},
   "outputs": [
    {
     "data": {
      "text/plain": [
       "0.9833000000000001"
      ]
     },
     "execution_count": 13,
     "metadata": {},
     "output_type": "execute_result"
    }
   ],
   "source": [
    "# test linear interpolation\n",
    "test_points=[[10, 0.98393], [11, 0.98267]]\n",
    "linear_interpolation(test_points[0], test_points[1], 10.5)"
   ]
  },
  {
   "cell_type": "code",
   "execution_count": 14,
   "metadata": {},
   "outputs": [],
   "source": [
    "a = [1, 2, 3]"
   ]
  },
  {
   "cell_type": "code",
   "execution_count": 19,
   "metadata": {},
   "outputs": [
    {
     "data": {
      "text/plain": [
       "[2, 3]"
      ]
     },
     "execution_count": 19,
     "metadata": {},
     "output_type": "execute_result"
    }
   ],
   "source": [
    "a[1:]"
   ]
  },
  {
   "cell_type": "code",
   "execution_count": 20,
   "metadata": {},
   "outputs": [],
   "source": [
    "# Bilinear Interpolation\n",
    "def bilinear_interpolation(points, x, y):\n",
    "    '''\n",
    "    INPUTS\n",
    "    ------\n",
    "    points: [point], point: [x, y, f(x,y)]\n",
    "    x: int\n",
    "    y: int\n",
    "    \n",
    "    RETURN\n",
    "    ------\n",
    "    f(x, y)\n",
    "    '''\n",
    "    point1 = points[0][1:] # take y1 and f(x1, y1)\n",
    "    point2 = points[1][1:]\n",
    "    x1 = points[0][0]\n",
    "    fx1y = linear_interpolation(point1, point2, y) # get f(x1, y)\n",
    "    point1 = points[2][1:]\n",
    "    point2 = points[3][1:]\n",
    "    x2 = points[2][0]\n",
    "    fx2y = linear_interpolation(point1, point2, y)\n",
    "    point1 = (x1, fx1y)\n",
    "    point2 = (x2, fx2y)\n",
    "    return linear_interpolation(point1, point2, x)"
   ]
  },
  {
   "cell_type": "code",
   "execution_count": 21,
   "metadata": {},
   "outputs": [
    {
     "data": {
      "text/plain": [
       "0.98293"
      ]
     },
     "execution_count": 21,
     "metadata": {},
     "output_type": "execute_result"
    }
   ],
   "source": [
    "# test bilinear interpolation\n",
    "test_points = [[10, 10, 0.98393], [10, 15, 0.98304],\n",
    "               [11, 10, 0.98267], [11, 15, 0.98171]]\n",
    "bilinear_interpolation(test_points, 10.5, 12)"
   ]
  }
 ],
 "metadata": {
  "kernelspec": {
   "display_name": "Python 3",
   "language": "python",
   "name": "python3"
  },
  "language_info": {
   "codemirror_mode": {
    "name": "ipython",
    "version": 3
   },
   "file_extension": ".py",
   "mimetype": "text/x-python",
   "name": "python",
   "nbconvert_exporter": "python",
   "pygments_lexer": "ipython3",
   "version": "3.5.2"
  },
  "widgets": {
   "state": {},
   "version": "1.1.2"
  }
 },
 "nbformat": 4,
 "nbformat_minor": 2
}
